{
 "cells": [
  {
   "cell_type": "markdown",
   "source": [
    "# Maria Micaela Ninni - GEOL542\r\n",
    "## September 16th, 2021\r\n",
    "## Module 4"
   ],
   "metadata": {}
  },
  {
   "cell_type": "markdown",
   "source": [
    "## Python Lists"
   ],
   "metadata": {}
  },
  {
   "cell_type": "code",
   "execution_count": 18,
   "source": [
    "odds = [1, 3, 5, 7]\r\n",
    "print('odds are:', odds)\r\n",
    "print('first element:', odds[0])\r\n",
    "print('last element:', odds[3])\r\n",
    "print('\"-1\" element:', odds[-1])"
   ],
   "outputs": [
    {
     "output_type": "stream",
     "name": "stdout",
     "text": [
      "odds are: [1, 3, 5, 7]\n",
      "first element: 1\n",
      "last element: 7\n",
      "\"-1\" element: 7\n"
     ]
    }
   ],
   "metadata": {}
  },
  {
   "cell_type": "code",
   "execution_count": 19,
   "source": [
    "names = ['Curie', 'Darwing', 'Turing']  # typo in Darwin's name\r\n",
    "print('names is originally:', names)\r\n",
    "\r\n",
    "names[1] = 'Darwin'  # correct the name\r\n",
    "print('final value of names:', names)"
   ],
   "outputs": [
    {
     "output_type": "stream",
     "name": "stdout",
     "text": [
      "names is originally: ['Curie', 'Darwing', 'Turing']\n",
      "final value of names: ['Curie', 'Darwin', 'Turing']\n"
     ]
    }
   ],
   "metadata": {}
  },
  {
   "cell_type": "markdown",
   "source": [
    "## Changes"
   ],
   "metadata": {}
  },
  {
   "cell_type": "code",
   "execution_count": 20,
   "source": [
    "salsa = ['peppers', 'onions', 'cilantro', 'tomatoes']\r\n",
    "my_salsa = salsa        # <-- my_salsa and salsa point to the *same* list data in memory\r\n",
    "salsa[0] = 'hot peppers'\r\n",
    "print('Ingredients in my salsa:', my_salsa)\r\n",
    "\r\n",
    "salsa = ['peppers', 'onions', 'cilantro', 'tomatoes']\r\n",
    "my_salsa = list(salsa)        # <-- makes a *copy* of the list\r\n",
    "salsa[0] = 'hot peppers'\r\n",
    "print('Ingredients in my salsa:', my_salsa)"
   ],
   "outputs": [
    {
     "output_type": "stream",
     "name": "stdout",
     "text": [
      "Ingredients in my salsa: ['hot peppers', 'onions', 'cilantro', 'tomatoes']\n",
      "Ingredients in my salsa: ['peppers', 'onions', 'cilantro', 'tomatoes']\n"
     ]
    }
   ],
   "metadata": {}
  },
  {
   "cell_type": "markdown",
   "source": [
    "## Nested Lists"
   ],
   "metadata": {}
  },
  {
   "cell_type": "code",
   "execution_count": 21,
   "source": [
    "x = [['pepper', 'zucchini', 'onion'],\r\n",
    "     ['cabbage', 'lettuce', 'garlic'],\r\n",
    "     ['apple', 'pear', 'banana']]\r\n",
    "\r\n",
    "print('first row', x[0])\r\n",
    "print(' first element', x[0][0])"
   ],
   "outputs": [
    {
     "output_type": "stream",
     "name": "stdout",
     "text": [
      "first row ['pepper', 'zucchini', 'onion']\n",
      " first element pepper\n"
     ]
    }
   ],
   "metadata": {}
  },
  {
   "cell_type": "code",
   "execution_count": 22,
   "source": [
    "sample_ages = [10, 12.5, 'Unknown']\r\n",
    "odds.append(11)\r\n",
    "print('odds after adding a value:', odds)\r\n",
    "\r\n",
    "removed_element = odds.pop(0)\r\n",
    "print('odds after removing the first element:', odds)\r\n",
    "print('removed_element:', removed_element)\r\n",
    "\r\n",
    "odds.reverse()\r\n",
    "print('odds after reversing:', odds)\r\n",
    "\r\n",
    "primes = odds\r\n",
    "primes.append(2)\r\n",
    "print('primes:', primes)\r\n",
    "print('odds:', odds)"
   ],
   "outputs": [
    {
     "output_type": "stream",
     "name": "stdout",
     "text": [
      "odds after adding a value: [1, 3, 5, 7, 11]\n",
      "odds after removing the first element: [3, 5, 7, 11]\n",
      "removed_element: 1\n",
      "odds after reversing: [11, 7, 5, 3]\n",
      "primes: [11, 7, 5, 3, 2]\n",
      "odds: [11, 7, 5, 3, 2]\n"
     ]
    }
   ],
   "metadata": {}
  },
  {
   "cell_type": "code",
   "execution_count": 23,
   "source": [
    "binomial_name = 'Drosophila melanogaster'\r\n",
    "group = binomial_name[0:10]\r\n",
    "print('group:', group)\r\n",
    "\r\n",
    "species = binomial_name[11:23]\r\n",
    "print('species:', species)\r\n",
    "\r\n",
    "chromosomes = ['X', 'Y', '2', '3', '4']\r\n",
    "autosomes = chromosomes[2:5]\r\n",
    "print('autosomes:', autosomes)\r\n",
    "\r\n",
    "last = chromosomes[-1]\r\n",
    "print('last:', last)"
   ],
   "outputs": [
    {
     "output_type": "stream",
     "name": "stdout",
     "text": [
      "group: Drosophila\n",
      "species: melanogaster\n",
      "autosomes: ['2', '3', '4']\n",
      "last: 4\n"
     ]
    }
   ],
   "metadata": {}
  },
  {
   "cell_type": "markdown",
   "source": [
    "## Exercise 1"
   ],
   "metadata": {}
  },
  {
   "cell_type": "code",
   "execution_count": 41,
   "source": [
    "SS = 'Observation date: 02-Feb-2013'\r\n",
    "LS = [['fluorine', 'F'],\r\n",
    "                    ['chlorine', 'Cl'],\r\n",
    "                    ['bromine', 'Br'],\r\n",
    "                    ['iodine', 'I'],\r\n",
    "                    ['astatine', 'At']]\r\n",
    "\r\n",
    "SSS = SS[-4:]\r\n",
    "LSS = LS[-4:]\r\n",
    "\r\n",
    "print('Original string = ', SS, '; Sliced string =', SSS)\r\n",
    "print('Original list = ', LS, '; Sliced list', LSS)"
   ],
   "outputs": [
    {
     "output_type": "stream",
     "name": "stdout",
     "text": [
      "Original string =  Observation date: 02-Feb-2013 ; Sliced string = 2013\n",
      "Original list =  [['fluorine', 'F'], ['chlorine', 'Cl'], ['bromine', 'Br'], ['iodine', 'I'], ['astatine', 'At']] ; Sliced list [['chlorine', 'Cl'], ['bromine', 'Br'], ['iodine', 'I'], ['astatine', 'At']]\n"
     ]
    }
   ],
   "metadata": {}
  },
  {
   "cell_type": "code",
   "execution_count": 25,
   "source": [
    "primes = [2, 3, 5, 7, 11, 13, 17, 19, 23, 29, 31, 37]\r\n",
    "subset1 = primes[0:12:3]\r\n",
    "print('subset1', subset1)\r\n",
    "\r\n",
    "subset2 = primes[2:12:3]\r\n",
    "print('subset2', subset2)"
   ],
   "outputs": [
    {
     "output_type": "stream",
     "name": "stdout",
     "text": [
      "subset1 [2, 7, 17, 29]\n",
      "subset2 [5, 13, 23, 37]\n"
     ]
    }
   ],
   "metadata": {}
  },
  {
   "cell_type": "code",
   "execution_count": 26,
   "source": [
    "beatles = \"In an octopus's garden in the shade\"\r\n",
    "\r\n",
    "print('beatles[0:35:2] =', beatles[0:35:2])\r\n"
   ],
   "outputs": [
    {
     "output_type": "stream",
     "name": "stdout",
     "text": [
      "beatles[0:35:2] = I notpssgre ntesae\n"
     ]
    }
   ],
   "metadata": {}
  },
  {
   "cell_type": "code",
   "execution_count": 27,
   "source": [
    "date = 'Monday 4 January 2016'\r\n",
    "day = date[0:6]\r\n",
    "print('Using 0 to begin range:', day)\r\n",
    "\r\n",
    "day = date[:6]\r\n",
    "print('Omitting beginning index:', day)\r\n",
    "\r\n",
    "months = ['jan', 'feb', 'mar', 'apr', 'may', 'jun', 'jul', 'aug', 'sep', 'oct', 'nov', 'dec']\r\n",
    "M1 = months[8:12]\r\n",
    "print('With known last position:', M1)\r\n",
    "\r\n",
    "M2 = months[8:len(months)]\r\n",
    "print('Using len() to get last entry:', M2)\r\n",
    "\r\n",
    "M3 = months[8:]\r\n",
    "print('Omitting ending index:', M3)"
   ],
   "outputs": [
    {
     "output_type": "stream",
     "name": "stdout",
     "text": [
      "Using 0 to begin range: Monday\n",
      "Omitting beginning index: Monday\n",
      "With known last position: ['sep', 'oct', 'nov', 'dec']\n",
      "Using len() to get last entry: ['sep', 'oct', 'nov', 'dec']\n",
      "Omitting ending index: ['sep', 'oct', 'nov', 'dec']\n"
     ]
    }
   ],
   "metadata": {}
  },
  {
   "cell_type": "markdown",
   "source": [
    "## Exercise 2"
   ],
   "metadata": {}
  },
  {
   "cell_type": "code",
   "execution_count": 42,
   "source": [
    "num = [2, 4, 6, 8, 10]\r\n",
    "double = num * 2\r\n",
    "print(double)"
   ],
   "outputs": [
    {
     "output_type": "stream",
     "name": "stdout",
     "text": [
      "[2, 4, 6, 8, 10, 2, 4, 6, 8, 10]\n"
     ]
    }
   ],
   "metadata": {}
  },
  {
   "cell_type": "markdown",
   "source": [
    "# Module 5"
   ],
   "metadata": {}
  },
  {
   "cell_type": "code",
   "execution_count": 29,
   "source": [
    "odds = [1, 3, 5, 7]\r\n",
    "\r\n",
    "print(odds[0])\r\n",
    "print(odds[1])\r\n",
    "print(odds[2])\r\n",
    "print(odds[3])\r\n",
    "\r\n",
    "for num in odds:\r\n",
    "    print(num)"
   ],
   "outputs": [
    {
     "output_type": "stream",
     "name": "stdout",
     "text": [
      "1\n",
      "3\n",
      "5\n",
      "7\n",
      "1\n",
      "3\n",
      "5\n",
      "7\n"
     ]
    }
   ],
   "metadata": {}
  },
  {
   "cell_type": "code",
   "execution_count": 30,
   "source": [
    "length = 0\r\n",
    "names = ['Curie', 'Darwin', 'Turing']\r\n",
    "for value in names:\r\n",
    "    length = length + 1\r\n",
    "print('There are', length, 'names in the list.')"
   ],
   "outputs": [
    {
     "output_type": "stream",
     "name": "stdout",
     "text": [
      "There are 3 names in the list.\n"
     ]
    }
   ],
   "metadata": {}
  },
  {
   "cell_type": "code",
   "execution_count": 31,
   "source": [
    "name = 'Rosalind'\r\n",
    "for name in ['Curie', 'Darwin', 'Turing']:\r\n",
    "    print(name)\r\n",
    "print('after the loop, name is', name)"
   ],
   "outputs": [
    {
     "output_type": "stream",
     "name": "stdout",
     "text": [
      "Curie\n",
      "Darwin\n",
      "Turing\n",
      "after the loop, name is Turing\n"
     ]
    }
   ],
   "metadata": {}
  },
  {
   "cell_type": "markdown",
   "source": [
    "# Exercise 3"
   ],
   "metadata": {}
  },
  {
   "cell_type": "code",
   "execution_count": 32,
   "source": [
    "for number in range(1, 4):\r\n",
    "    print(number)"
   ],
   "outputs": [
    {
     "output_type": "stream",
     "name": "stdout",
     "text": [
      "1\n",
      "2\n",
      "3\n"
     ]
    }
   ],
   "metadata": {}
  },
  {
   "cell_type": "code",
   "execution_count": null,
   "source": [
    "word = 'oxygen'\r\n",
    "for char in word:\r\n",
    "    print(char)"
   ],
   "outputs": [],
   "metadata": {}
  },
  {
   "cell_type": "code",
   "execution_count": 35,
   "source": [
    "z = 5 ** 3\r\n",
    "\r\n",
    "\r\n",
    "result = 1\r\n",
    "for number in range(0, 3):\r\n",
    "    result = result * 5\r\n",
    "\r\n",
    "\r\n",
    "if result == z:\r\n",
    "    print('option1', z, 'option2', result, 'It works!')"
   ],
   "outputs": [
    {
     "output_type": "stream",
     "name": "stdout",
     "text": [
      "option1 125 option2 125 It works!\n"
     ]
    }
   ],
   "metadata": {}
  },
  {
   "cell_type": "code",
   "execution_count": 37,
   "source": [
    "# Sum loop\r\n",
    "\r\n",
    "list = [124, 402, 36]\r\n",
    "start = 0\r\n",
    "\r\n",
    "for num in list:\r\n",
    "    start = start + num\r\n",
    "print('final sum =', start)"
   ],
   "outputs": [
    {
     "output_type": "stream",
     "name": "stdout",
     "text": [
      "final sum = 562\n"
     ]
    }
   ],
   "metadata": {}
  },
  {
   "cell_type": "code",
   "execution_count": 52,
   "source": [
    "x = 5\r\n",
    "coefs = [2, 4, 3]\r\n",
    "y = coefs[0] * x**0 + coefs[1] * x**1 + coefs[2] * x**2\r\n",
    "\r\n",
    "yloop = 0\r\n",
    "for idx, coef in enumerate(coefs):\r\n",
    "    yloop = yloop + coef * x**idx\r\n",
    "print('Loop answer =', yloop, '; Long version answer =', y, 'If equal = loop works!')"
   ],
   "outputs": [
    {
     "output_type": "stream",
     "name": "stdout",
     "text": [
      "Loop answer = 97 ; Long version answer = 97 If equal = loop works!\n"
     ]
    }
   ],
   "metadata": {}
  }
 ],
 "metadata": {
  "kernelspec": {
   "name": "python3",
   "display_name": "Python 3.9.0 64-bit"
  },
  "language_info": {
   "codemirror_mode": {
    "name": "ipython",
    "version": 3
   },
   "file_extension": ".py",
   "mimetype": "text/x-python",
   "name": "python",
   "nbconvert_exporter": "python",
   "pygments_lexer": "ipython3",
   "version": "3.9.0"
  },
  "interpreter": {
   "hash": "63fd5069d213b44bf678585dea6b12cceca9941eaf7f819626cde1f2670de90d"
  }
 },
 "nbformat": 4,
 "nbformat_minor": 2
}
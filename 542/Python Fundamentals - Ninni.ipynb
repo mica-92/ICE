{
 "cells": [
  {
   "cell_type": "markdown",
   "source": [
    "# Maria Micaela Ninni - GEOL542\r\n",
    "## August 31st, 2021"
   ],
   "metadata": {}
  },
  {
   "cell_type": "markdown",
   "source": [
    "## Variables"
   ],
   "metadata": {}
  },
  {
   "cell_type": "code",
   "execution_count": 2,
   "source": [
    "output = 3 + 5 * 4\r\n",
    "print(output)\r\n",
    "\r\n",
    "weight_kg = 60\r\n",
    "print(weight_kg)\r\n",
    "\r\n",
    "patient_id = '001'\r\n",
    "print(patient_id)"
   ],
   "outputs": [
    {
     "output_type": "stream",
     "name": "stdout",
     "text": [
      "23\n",
      "60\n",
      "001\n"
     ]
    }
   ],
   "metadata": {}
  },
  {
   "cell_type": "code",
   "execution_count": 3,
   "source": [
    "weight_lb = 2.2 * weight_kg\r\n",
    "patient_id = 'inflam_' + patient_id\r\n",
    "\r\n",
    "print(weight_lb)\r\n",
    "print(patient_id)\r\n",
    "print(patient_id, 'weight in kilograms:', weight_kg)\r\n",
    "print('weight in pounds:', 2.2 * weight_kg)\r\n",
    "print('weight in kilograms:', weight_kg)\r\n"
   ],
   "outputs": [
    {
     "output_type": "stream",
     "name": "stdout",
     "text": [
      "132.0\n",
      "inflam_001\n",
      "inflam_001 weight in kilograms: 60\n",
      "weight in pounds: 132.0\n",
      "weight in kilograms: 60\n"
     ]
    }
   ],
   "metadata": {}
  },
  {
   "cell_type": "code",
   "execution_count": 4,
   "source": [
    "print(type(60.3))\r\n",
    "print(type(patient_id))"
   ],
   "outputs": [
    {
     "output_type": "stream",
     "name": "stdout",
     "text": [
      "<class 'float'>\n",
      "<class 'str'>\n"
     ]
    }
   ],
   "metadata": {}
  },
  {
   "cell_type": "code",
   "execution_count": 5,
   "source": [
    "weight_kg = 65.0\r\n",
    "print('weight in kilograms is now:', weight_kg)\r\n",
    "weight_lb = 2.2 * weight_kg\r\n",
    "print('weight in kilograms:', weight_kg, 'and in pounds:', weight_lb)"
   ],
   "outputs": [
    {
     "output_type": "stream",
     "name": "stdout",
     "text": [
      "weight in kilograms is now: 65.0\n",
      "weight in kilograms: 65.0 and in pounds: 143.0\n"
     ]
    }
   ],
   "metadata": {}
  },
  {
   "cell_type": "code",
   "execution_count": null,
   "source": [
    "mass = 47.5\r\n",
    "age = 122\r\n",
    "mass = mass * 2.0\r\n",
    "age = age - 20\r\n",
    "print('mass:', mass, '; age:', age)"
   ],
   "outputs": [
    {
     "output_type": "stream",
     "name": "stdout",
     "text": [
      "mass: 95.0 ; age: 102\n"
     ]
    }
   ],
   "metadata": {}
  },
  {
   "cell_type": "code",
   "execution_count": null,
   "source": [
    "first, second = 'Grace', 'Hopper'\r\n",
    "third, fourth = second, first\r\n",
    "print(third, fourth)"
   ],
   "outputs": [
    {
     "output_type": "stream",
     "name": "stdout",
     "text": [
      "Hopper Grace\n"
     ]
    }
   ],
   "metadata": {}
  },
  {
   "cell_type": "code",
   "execution_count": null,
   "source": [
    "planet = 'Earth'\r\n",
    "apples = 5\r\n",
    "distance = 10.5\r\n",
    "\r\n",
    "print('planet type = ', type(planet), ', apples type = ', type(apples),', distance type = ', type(distance))\r\n",
    "\r\n",
    "print()"
   ],
   "outputs": [
    {
     "output_type": "stream",
     "name": "stdout",
     "text": [
      "planet type =  <class 'str'> , apples type =  <class 'int'> , distance type =  <class 'float'>\n"
     ]
    }
   ],
   "metadata": {}
  },
  {
   "cell_type": "markdown",
   "source": [
    "# Questions\r\n",
    "\r\n",
    "1. Good practices for coding\r\n",
    "2. Characteristics of the different types of elements (string, float, list, etc)\r\n",
    "3. How to change from one type of element to another, what complications one might encounter?"
   ],
   "metadata": {}
  }
 ],
 "metadata": {
  "kernelspec": {
   "name": "python3",
   "display_name": "Python 3.9.0 64-bit"
  },
  "language_info": {
   "codemirror_mode": {
    "name": "ipython",
    "version": 3
   },
   "file_extension": ".py",
   "mimetype": "text/x-python",
   "name": "python",
   "nbconvert_exporter": "python",
   "pygments_lexer": "ipython3",
   "version": "3.9.0"
  },
  "interpreter": {
   "hash": "63fd5069d213b44bf678585dea6b12cceca9941eaf7f819626cde1f2670de90d"
  }
 },
 "nbformat": 4,
 "nbformat_minor": 2
}
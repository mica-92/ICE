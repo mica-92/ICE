{
 "cells": [
  {
   "cell_type": "markdown",
   "metadata": {},
   "source": [
    "# Other modules for geoscientists"
   ]
  },
  {
   "cell_type": "markdown",
   "metadata": {},
   "source": [
    "Nikolay Koldunov\n",
    "\n",
    "koldunovn@gmail.com"
   ]
  },
  {
   "cell_type": "markdown",
   "metadata": {},
   "source": [
    "This is part of [**Python for Geosciences**](https://github.com/koldunovn/python_for_geosciences) notes."
   ]
  },
  {
   "cell_type": "markdown",
   "metadata": {},
   "source": [
    "============="
   ]
  },
  {
   "cell_type": "markdown",
   "metadata": {},
   "source": [
    "Some of the things will not work on ZMAW computers (Iris, Cartopy)."
   ]
  },
  {
   "cell_type": "code",
   "execution_count": 31,
   "metadata": {},
   "outputs": [],
   "source": [
    "%matplotlib inline\n",
    "import matplotlib.pylab as plt\n",
    "import numpy as np"
   ]
  },
  {
   "cell_type": "markdown",
   "metadata": {},
   "source": [
    "# Pydap"
   ]
  },
  {
   "cell_type": "markdown",
   "metadata": {},
   "source": [
    "[Pydap](http://www.pydap.org/) is a pure Python library implementing the Data Access Protocol, also known as DODS or OPeNDAP. You can use Pydap as a client to access hundreds of scientific datasets in a transparent and efficient way through the internet; or as a server to easily distribute your data from a variety of formats."
   ]
  },
  {
   "cell_type": "code",
   "execution_count": 16,
   "metadata": {},
   "outputs": [],
   "source": [
    "from pydap.client import open_url"
   ]
  },
  {
   "cell_type": "markdown",
   "metadata": {},
   "source": [
    "We are going to access [sea ice data](http://icdc.zmaw.de/seaiceconcentration_asi_amsre.html?&L=1) from [CliSAP-Integrated Climate Data Center (ICDC)](http://icdc.zmaw.de/)"
   ]
  },
  {
   "cell_type": "code",
   "execution_count": 21,
   "metadata": {},
   "outputs": [],
   "source": [
    "dataset = open_url(u\"http://icdc.cen.uni-hamburg.de/thredds/dodsC/ssmi_asi_icecon_arc2011\")"
   ]
  },
  {
   "cell_type": "code",
   "execution_count": 23,
   "metadata": {},
   "outputs": [
    {
     "name": "stdout",
     "output_type": "stream",
     "text": [
      "<DatasetType with children 'latitude', 'longitude', 'time', 'sea_ice_area_fraction', 'land'>\n"
     ]
    }
   ],
   "source": [
    "print(dataset)"
   ]
  },
  {
   "cell_type": "code",
   "execution_count": 25,
   "metadata": {},
   "outputs": [],
   "source": [
    "ice = dataset['sea_ice_area_fraction']"
   ]
  },
  {
   "cell_type": "code",
   "execution_count": 26,
   "metadata": {},
   "outputs": [
    {
     "data": {
      "text/plain": [
       "(365, 896, 608)"
      ]
     },
     "execution_count": 26,
     "metadata": {},
     "output_type": "execute_result"
    }
   ],
   "source": [
    "ice.shape"
   ]
  },
  {
   "cell_type": "code",
   "execution_count": 35,
   "metadata": {},
   "outputs": [
    {
     "data": {
      "text/plain": [
       "{'_FillValue': 103,\n",
       " 'add_offset': 0.0,\n",
       " 'coordinates': 'latitude longitude time',\n",
       " 'long_name': 'sea-ice concentration',\n",
       " 'missing_value': 101,\n",
       " 'scale_factor': 1.0,\n",
       " 'standard_name': 'sea_ice_area_fraction',\n",
       " 'units': 'percent'}"
      ]
     },
     "execution_count": 35,
     "metadata": {},
     "output_type": "execute_result"
    }
   ],
   "source": [
    "ice.attributes"
   ]
  },
  {
   "cell_type": "code",
   "execution_count": 36,
   "metadata": {},
   "outputs": [
    {
     "data": {
      "text/plain": [
       "<matplotlib.colorbar.Colorbar at 0x11b12bef0>"
      ]
     },
     "execution_count": 36,
     "metadata": {},
     "output_type": "execute_result"
    },
    {
     "data": {
      "image/png": "[encoded data removed]",
      "text/plain": [
       "<matplotlib.figure.Figure at 0x11d67d7b8>"
      ]
     },
     "metadata": {},
     "output_type": "display_data"
    }
   ],
   "source": [
    "plt.imshow(np.squeeze(ice[0,:,:]))\n",
    "plt.colorbar()"
   ]
  },
  {
   "cell_type": "markdown",
   "metadata": {},
   "source": [
    "## F2PY"
   ]
  },
  {
   "cell_type": "markdown",
   "metadata": {},
   "source": [
    "The [F2PY](http://www.f2py.com/) project is created to unify the efforts of supporting easy connection between Fortran and Python languages. Example below is from [Using Python and FORTRAN with F2py](http://www.f2py.com/)."
   ]
  },
  {
   "cell_type": "markdown",
   "metadata": {},
   "source": [
    "Create FORTRAN file (use %%file instead of %%writefile if you on IPython < 1.0):"
   ]
  },
  {
   "cell_type": "code",
   "execution_count": 37,
   "metadata": {},
   "outputs": [
    {
     "name": "stdout",
     "output_type": "stream",
     "text": [
      "Writing FIB1.F\n"
     ]
    }
   ],
   "source": [
    "%%writefile FIB1.F\n",
    "C FILE: FIB1.F\n",
    "      SUBROUTINE FIB(A,N)\n",
    "C\n",
    "C     CALCULATE FIRST N FIBONACCI NUMBERS\n",
    "C\n",
    "      INTEGER N\n",
    "      REAL*8 A(N)\n",
    "      DO I=1,N\n",
    "         IF (I.EQ.1) THEN\n",
    "            A(I) = 0.0D0\n",
    "         ELSEIF (I.EQ.2) THEN\n",
    "            A(I) = 1.0D0\n",
    "         ELSE \n",
    "            A(I) = A(I-1) + A(I-2)\n",
    "         ENDIF\n",
    "      ENDDO\n",
    "      END\n",
    "C END FILE FIB1.F"
   ]
  },
  {
   "cell_type": "markdown",
   "metadata": {},
   "source": [
    "Compile it with f2py:"
   ]
  },
  {
   "cell_type": "code",
   "execution_count": 38,
   "metadata": {},
   "outputs": [
    {
     "name": "stdout",
     "output_type": "stream",
     "text": [
      "\u001b[39mrunning build\u001b[0m\n",
      "\u001b[39mrunning config_cc\u001b[0m\n",
      "\u001b[39munifing config_cc, config, build_clib, build_ext, build commands --compiler options\u001b[0m\n",
      "\u001b[39mrunning config_fc\u001b[0m\n",
      "\u001b[39munifing config_fc, config, build_clib, build_ext, build commands --fcompiler options\u001b[0m\n",
      "\u001b[39mrunning build_src\u001b[0m\n",
      "\u001b[39mbuild_src\u001b[0m\n",
      "\u001b[39mbuilding extension \"fib1\" sources\u001b[0m\n",
      "\u001b[39mf2py options: []\u001b[0m\n",
      "\u001b[39mf2py:> /var/folders/yq/03v059jn4sg2xhnhpnrqkgcc0000gn/T/tmprf2kbptk/src.macosx-10.7-x86_64-3.6/fib1module.c\u001b[0m\n",
      "\u001b[39mcreating /var/folders/yq/03v059jn4sg2xhnhpnrqkgcc0000gn/T/tmprf2kbptk/src.macosx-10.7-x86_64-3.6\u001b[0m\n",
      "Reading fortran codes...\n",
      "\tReading file 'FIB1.F' (format:fix,strict)\n",
      "Post-processing...\n",
      "\tBlock: fib1\n",
      "\t\t\tBlock: fib\n",
      "Post-processing (stage 2)...\n",
      "Building modules...\n",
      "\tBuilding module \"fib1\"...\n",
      "\t\tConstructing wrapper function \"fib\"...\n",
      "\t\t  fib(a,[n])\n",
      "\tWrote C/API module \"fib1\" to file \"/var/folders/yq/03v059jn4sg2xhnhpnrqkgcc0000gn/T/tmprf2kbptk/src.macosx-10.7-x86_64-3.6/fib1module.c\"\n",
      "\u001b[39m  adding '/var/folders/yq/03v059jn4sg2xhnhpnrqkgcc0000gn/T/tmprf2kbptk/src.macosx-10.7-x86_64-3.6/fortranobject.c' to sources.\u001b[0m\n",
      "\u001b[39m  adding '/var/folders/yq/03v059jn4sg2xhnhpnrqkgcc0000gn/T/tmprf2kbptk/src.macosx-10.7-x86_64-3.6' to include_dirs.\u001b[0m\n",
      "\u001b[39mcopying /Users/koldunovn/miniconda3/lib/python3.6/site-packages/numpy/f2py/src/fortranobject.c -> /var/folders/yq/03v059jn4sg2xhnhpnrqkgcc0000gn/T/tmprf2kbptk/src.macosx-10.7-x86_64-3.6\u001b[0m\n",
      "\u001b[39mcopying /Users/koldunovn/miniconda3/lib/python3.6/site-packages/numpy/f2py/src/fortranobject.h -> /var/folders/yq/03v059jn4sg2xhnhpnrqkgcc0000gn/T/tmprf2kbptk/src.macosx-10.7-x86_64-3.6\u001b[0m\n",
      "\u001b[39mbuild_src: building npy-pkg config files\u001b[0m\n",
      "\u001b[39mrunning build_ext\u001b[0m\n",
      "\u001b[39mcustomize UnixCCompiler\u001b[0m\n",
      "\u001b[39mcustomize UnixCCompiler using build_ext\u001b[0m\n",
      "\u001b[39mcustomize Gnu95FCompiler\u001b[0m\n",
      "\u001b[39mFound executable /usr/local/bin/gfortran\u001b[0m\n",
      "\u001b[39mcustomize Gnu95FCompiler using build_ext\u001b[0m\n",
      "\u001b[39mbuilding 'fib1' extension\u001b[0m\n",
      "\u001b[39mcompiling C sources\u001b[0m\n",
      "\u001b[39mC compiler: gcc -Wno-unused-result -Wsign-compare -Wunreachable-code -DNDEBUG -g -fwrapv -O3 -Wall -Wstrict-prototypes -I/Users/koldunovn/miniconda3/include -arch x86_64 -I/Users/koldunovn/miniconda3/include -arch x86_64\n",
      "\u001b[0m\n",
      "\u001b[39mcreating /var/folders/yq/03v059jn4sg2xhnhpnrqkgcc0000gn/T/tmprf2kbptk/var\u001b[0m\n",
      "\u001b[39mcreating /var/folders/yq/03v059jn4sg2xhnhpnrqkgcc0000gn/T/tmprf2kbptk/var/folders\u001b[0m\n",
      "\u001b[39mcreating /var/folders/yq/03v059jn4sg2xhnhpnrqkgcc0000gn/T/tmprf2kbptk/var/folders/yq\u001b[0m\n",
      "\u001b[39mcreating /var/folders/yq/03v059jn4sg2xhnhpnrqkgcc0000gn/T/tmprf2kbptk/var/folders/yq/03v059jn4sg2xhnhpnrqkgcc0000gn\u001b[0m\n",
      "\u001b[39mcreating /var/folders/yq/03v059jn4sg2xhnhpnrqkgcc0000gn/T/tmprf2kbptk/var/folders/yq/03v059jn4sg2xhnhpnrqkgcc0000gn/T\u001b[0m\n",
      "\u001b[39mcreating /var/folders/yq/03v059jn4sg2xhnhpnrqkgcc0000gn/T/tmprf2kbptk/var/folders/yq/03v059jn4sg2xhnhpnrqkgcc0000gn/T/tmprf2kbptk\u001b[0m\n",
      "\u001b[39mcreating /var/folders/yq/03v059jn4sg2xhnhpnrqkgcc0000gn/T/tmprf2kbptk/var/folders/yq/03v059jn4sg2xhnhpnrqkgcc0000gn/T/tmprf2kbptk/src.macosx-10.7-x86_64-3.6\u001b[0m\n",
      "\u001b[39mcompile options: '-I/var/folders/yq/03v059jn4sg2xhnhpnrqkgcc0000gn/T/tmprf2kbptk/src.macosx-10.7-x86_64-3.6 -I/Users/koldunovn/miniconda3/lib/python3.6/site-packages/numpy/core/include -I/Users/koldunovn/miniconda3/include/python3.6m -c'\u001b[0m\n",
      "\u001b[39mgcc: /var/folders/yq/03v059jn4sg2xhnhpnrqkgcc0000gn/T/tmprf2kbptk/src.macosx-10.7-x86_64-3.6/fib1module.c\u001b[0m\n",
      "In file included from /var/folders/yq/03v059jn4sg2xhnhpnrqkgcc0000gn/T/tmprf2kbptk/src.macosx-10.7-x86_64-3.6/fib1module.c:19:\n",
      "In file included from /var/folders/yq/03v059jn4sg2xhnhpnrqkgcc0000gn/T/tmprf2kbptk/src.macosx-10.7-x86_64-3.6/fortranobject.h:13:\n",
      "In file included from /Users/koldunovn/miniconda3/lib/python3.6/site-packages/numpy/core/include/numpy/arrayobject.h:4:\n",
      "In file included from /Users/koldunovn/miniconda3/lib/python3.6/site-packages/numpy/core/include/numpy/ndarrayobject.h:18:\n",
      "In file included from /Users/koldunovn/miniconda3/lib/python3.6/site-packages/numpy/core/include/numpy/ndarraytypes.h:1788:\n",
      "/Users/koldunovn/miniconda3/lib/python3.6/site-packages/numpy/core/include/numpy/npy_1_7_deprecated_api.h:15:2: warning: \"Using deprecated NumPy API, disable it by \"          \"#defining NPY_NO_DEPRECATED_API NPY_1_7_API_VERSION\" [-W#warnings]\n",
      "#warning \"Using deprecated NumPy API, disable it by \" \\\n",
      " ^\n",
      "/var/folders/yq/03v059jn4sg2xhnhpnrqkgcc0000gn/T/tmprf2kbptk/src.macosx-10.7-x86_64-3.6/fib1module.c:112:12: warning: unused function 'f2py_size' [-Wunused-function]\n",
      "static int f2py_size(PyArrayObject* var, ...)\n",
      "           ^\n",
      "2 warnings generated.\n",
      "\u001b[39mgcc: /var/folders/yq/03v059jn4sg2xhnhpnrqkgcc0000gn/T/tmprf2kbptk/src.macosx-10.7-x86_64-3.6/fortranobject.c\u001b[0m\n",
      "In file included from /var/folders/yq/03v059jn4sg2xhnhpnrqkgcc0000gn/T/tmprf2kbptk/src.macosx-10.7-x86_64-3.6/fortranobject.c:2:\n",
      "In file included from /var/folders/yq/03v059jn4sg2xhnhpnrqkgcc0000gn/T/tmprf2kbptk/src.macosx-10.7-x86_64-3.6/fortranobject.h:13:\n",
      "In file included from /Users/koldunovn/miniconda3/lib/python3.6/site-packages/numpy/core/include/numpy/arrayobject.h:4:\n",
      "In file included from /Users/koldunovn/miniconda3/lib/python3.6/site-packages/numpy/core/include/numpy/ndarrayobject.h:18:\n",
      "In file included from /Users/koldunovn/miniconda3/lib/python3.6/site-packages/numpy/core/include/numpy/ndarraytypes.h:1788:\n",
      "/Users/koldunovn/miniconda3/lib/python3.6/site-packages/numpy/core/include/numpy/npy_1_7_deprecated_api.h:15:2: warning: \"Using deprecated NumPy API, disable it by \"          \"#defining NPY_NO_DEPRECATED_API NPY_1_7_API_VERSION\" [-W#warnings]\n",
      "#warning \"Using deprecated NumPy API, disable it by \" \\\n",
      " ^\n",
      "/var/folders/yq/03v059jn4sg2xhnhpnrqkgcc0000gn/T/tmprf2kbptk/src.macosx-10.7-x86_64-3.6/fortranobject.c:139:18: warning: comparison of integers of different signs: 'Py_ssize_t' (aka 'long') and 'unsigned long' [-Wsign-compare]\n",
      "        if (size < sizeof(notalloc)) {\n",
      "            ~~~~ ^ ~~~~~~~~~~~~~~~~\n",
      "2 warnings generated.\n",
      "\u001b[39mcompiling Fortran sources\u001b[0m\n",
      "\u001b[39mFortran f77 compiler: /usr/local/bin/gfortran -Wall -g -ffixed-form -fno-second-underscore -arch x86_64 -fPIC -O3 -funroll-loops\n",
      "Fortran f90 compiler: /usr/local/bin/gfortran -Wall -g -fno-second-underscore -arch x86_64 -fPIC -O3 -funroll-loops\n",
      "Fortran fix compiler: /usr/local/bin/gfortran -Wall -g -ffixed-form -fno-second-underscore -Wall -g -fno-second-underscore -arch x86_64 -fPIC -O3 -funroll-loops\u001b[0m\n",
      "\u001b[39mcompile options: '-I/var/folders/yq/03v059jn4sg2xhnhpnrqkgcc0000gn/T/tmprf2kbptk/src.macosx-10.7-x86_64-3.6 -I/Users/koldunovn/miniconda3/lib/python3.6/site-packages/numpy/core/include -I/Users/koldunovn/miniconda3/include/python3.6m -c'\u001b[0m\n",
      "\u001b[39mgfortran:f77: FIB1.F\u001b[0m\n",
      "\u001b[39m/usr/local/bin/gfortran -Wall -g -arch x86_64 -Wall -g -undefined dynamic_lookup -bundle /var/folders/yq/03v059jn4sg2xhnhpnrqkgcc0000gn/T/tmprf2kbptk/var/folders/yq/03v059jn4sg2xhnhpnrqkgcc0000gn/T/tmprf2kbptk/src.macosx-10.7-x86_64-3.6/fib1module.o /var/folders/yq/03v059jn4sg2xhnhpnrqkgcc0000gn/T/tmprf2kbptk/var/folders/yq/03v059jn4sg2xhnhpnrqkgcc0000gn/T/tmprf2kbptk/src.macosx-10.7-x86_64-3.6/fortranobject.o /var/folders/yq/03v059jn4sg2xhnhpnrqkgcc0000gn/T/tmprf2kbptk/FIB1.o -L/usr/local/Cellar/gcc/7.1.0/lib/gcc/7/gcc/x86_64-apple-darwin16.5.0/7.1.0 -L/Users/koldunovn/miniconda3/lib -lgfortran -o ./fib1.cpython-36m-darwin.so\u001b[0m\n",
      "Removing build directory /var/folders/yq/03v059jn4sg2xhnhpnrqkgcc0000gn/T/tmprf2kbptk\n"
     ]
    }
   ],
   "source": [
    "!f2py -c -m --fcompiler=gnu95 fib1 FIB1.F"
   ]
  },
  {
   "cell_type": "markdown",
   "metadata": {},
   "source": [
    "Import resulting **fib1.so** as python library:"
   ]
  },
  {
   "cell_type": "code",
   "execution_count": 39,
   "metadata": {},
   "outputs": [],
   "source": [
    "import fib1"
   ]
  },
  {
   "cell_type": "markdown",
   "metadata": {},
   "source": [
    "Read some auto generated documentation:"
   ]
  },
  {
   "cell_type": "code",
   "execution_count": 41,
   "metadata": {},
   "outputs": [
    {
     "name": "stdout",
     "output_type": "stream",
     "text": [
      "This module 'fib1' is auto-generated with f2py (version:2).\n",
      "Functions:\n",
      "  fib(a,n=len(a))\n",
      ".\n",
      "fib(a,[n])\n",
      "\n",
      "Wrapper for ``fib``.\n",
      "\n",
      "Parameters\n",
      "----------\n",
      "a : input rank-1 array('d') with bounds (n)\n",
      "\n",
      "Other Parameters\n",
      "----------------\n",
      "n : input int, optional\n",
      "    Default: len(a)\n",
      "\n"
     ]
    }
   ],
   "source": [
    "print(fib1.__doc__)\n",
    "print(fib1.fib.__doc__)"
   ]
  },
  {
   "cell_type": "markdown",
   "metadata": {},
   "source": [
    "Use *fib* function:"
   ]
  },
  {
   "cell_type": "code",
   "execution_count": 42,
   "metadata": {},
   "outputs": [],
   "source": [
    "import numpy as np"
   ]
  },
  {
   "cell_type": "code",
   "execution_count": 45,
   "metadata": {},
   "outputs": [
    {
     "data": {
      "text/plain": [
       "array([   0.,    1.,    1.,    2.,    3.,    5.,    8.,   13.,   21.,\n",
       "         34.,   55.,   89.,  144.,  233.,  377.])"
      ]
     },
     "execution_count": 45,
     "metadata": {},
     "output_type": "execute_result"
    }
   ],
   "source": [
    "a=np.zeros(15,'d') \n",
    "fib1.fib(a) \n",
    "a "
   ]
  }
 ],
 "metadata": {
  "kernelspec": {
   "display_name": "Python 3",
   "language": "python",
   "name": "python3"
  },
  "language_info": {
   "codemirror_mode": {
    "name": "ipython",
    "version": 3
   },
   "file_extension": ".py",
   "mimetype": "text/x-python",
   "name": "python",
   "nbconvert_exporter": "python",
   "pygments_lexer": "ipython3",
   "version": "3.7.6"
  }
 },
 "nbformat": 4,
 "nbformat_minor": 1
}
